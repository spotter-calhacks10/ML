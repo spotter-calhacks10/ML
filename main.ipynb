{
 "cells": [
  {
   "cell_type": "code",
   "execution_count": null,
   "metadata": {},
   "outputs": [],
   "source": [
    "def non_max_suppression(boxes, probs=None, overlapThresh=0.65):\n",
    "    if len(boxes) == 0:\n",
    "        return []\n",
    "\n",
    "    if boxes.dtype.kind == \"i\":\n",
    "        boxes = boxes.astype(\"float\")\n",
    "\n",
    "    pick = []\n",
    "\n",
    "    x1 = boxes[:, 0]\n",
    "    y1 = boxes[:, 1]\n",
    "    x2 = boxes[:, 2]\n",
    "    y2 = boxes[:, 3]\n",
    "\n",
    "    area = (x2 - x1 + 1) * (y2 - y1 + 1)\n",
    "    idxs = y2\n",
    "\n",
    "    if probs is not None:\n",
    "        idxs = probs\n",
    "\n",
    "    idxs = np.argsort(idxs)\n",
    "\n",
    "    while len(idxs) > 0:\n",
    "        last = len(idxs) - 1\n",
    "        i = idxs[last]\n",
    "        pick.append(i)\n",
    "\n",
    "        xx1 = np.maximum(x1[i], x1[idxs[:last]])\n",
    "        yy1 = np.maximum(y1[i], y1[idxs[:last]])\n",
    "        xx2 = np.minimum(x2[i], x2[idxs[:last]])\n",
    "        yy2 = np.minimum(y2[i], y2[idxs[:last]])\n",
    "\n",
    "        w = np.maximum(0, xx2 - xx1 + 1)\n",
    "        h = np.maximum(0, yy2 - yy1 + 1)\n",
    "\n",
    "        overlap = (w * h) / area[idxs[:last]]\n",
    "\n",
    "        idxs = np.delete(idxs, np.concatenate(([last], np.where(overlap > overlapThresh)[0])))\n",
    "\n",
    "    return boxes[pick].astype(\"int\")\n"
   ]
  },
  {
   "cell_type": "code",
   "execution_count": null,
   "metadata": {},
   "outputs": [],
   "source": [
    "import cv2\n",
    "\n",
    "# Check for available camera devices\n",
    "available_cameras = []\n",
    "for i in range(10):  # Check indices 0-9\n",
    "    cap = cv2.VideoCapture(i)\n",
    "    if cap.isOpened():\n",
    "        print(f\"Camera index {i} is available.\")\n",
    "        available_cameras.append(i)\n",
    "        cap.release()\n",
    "    else:\n",
    "        print(f\"Camera index {i} is not available.\")\n",
    "\n",
    "print(\"Available cameras:\", available_cameras)\n"
   ]
  },
  {
   "cell_type": "code",
   "execution_count": 2,
   "metadata": {},
   "outputs": [
    {
     "name": "stderr",
     "output_type": "stream",
     "text": [
      "OpenCV: FFMPEG: tag 0x47504a4d/'MJPG' is not supported with codec id 7 and format 'mp4 / MP4 (MPEG-4 Part 14)'\n",
      "OpenCV: FFMPEG: fallback to use tag 0x7634706d/'mp4v'\n"
     ]
    },
    {
     "data": {
      "text/plain": [
       "-1"
      ]
     },
     "execution_count": 2,
     "metadata": {},
     "output_type": "execute_result"
    }
   ],
   "source": [
    "import numpy as np\n",
    "import cv2\n",
    "\n",
    "# Initialize the HOG descriptor/person detector\n",
    "hog = cv2.HOGDescriptor()\n",
    "hog.setSVMDetector(cv2.HOGDescriptor_getDefaultPeopleDetector())\n",
    "\n",
    "cv2.startWindowThread()\n",
    "\n",
    "# Open webcam video stream\n",
    "cap = cv2.VideoCapture(0)\n",
    "\n",
    "# Output will be written to output.avi\n",
    "out = cv2.VideoWriter(\n",
    "    'output.mp4',\n",
    "    cv2.VideoWriter_fourcc(*'MJPG'),\n",
    "    15.,\n",
    "    (640, 480))\n",
    "\n",
    "while(True):\n",
    "    # Capture frame-by-frame\n",
    "    ret, frame = cap.read()\n",
    "    \n",
    "    # Resizing for faster detection\n",
    "    frame = cv2.resize(frame, (640, 480))\n",
    "    \n",
    "    # Using a grayscale picture, also for faster detection\n",
    "    # gray = cv2.cvtColor(frame, cv2.COLOR_RGB2GRAY)\n",
    "    gray = frame # setting to colour for now\n",
    "    \n",
    "    # Detect people in the image\n",
    "    # Returns the bounding boxes for the detected objects\n",
    "    boxes, weights = hog.detectMultiScale(frame, winStride=(4, 4), padding=(8, 8), scale=1.05, useMeanshiftGrouping=False)\n",
    "\n",
    "    boxes = np.array([[x, y, x + w, y + h] for (x, y, w, h) in boxes])\n",
    "    \n",
    "    for (xA, yA, xB, yB) in boxes:\n",
    "        # Display the detected boxes in the color picture\n",
    "        cv2.rectangle(frame, (xA, yA), (xB, yB), (0, 255, 0), 2)\n",
    "    # Write the output video\n",
    "    out.write(frame.astype('uint8'))\n",
    "    # Display the resulting frame\n",
    "    cv2.imshow('frame', frame)\n",
    "    \n",
    "    if cv2.waitKey(1) & 0xFF == ord('q'):\n",
    "        break\n",
    "\n",
    "# When everything is done, release the capture\n",
    "cap.release()\n",
    "\n",
    "# And release the output\n",
    "out.release()\n",
    "\n",
    "\n",
    "# Finally, close the window1q\n",
    "cv2.destroyAllWindows()\n",
    "cv2.waitKey(1)\n"
   ]
  },
  {
   "cell_type": "code",
   "execution_count": null,
   "metadata": {},
   "outputs": [],
   "source": [
    "# Your existing HOG code\n",
    "# ...\n",
    "\n",
    "# Non-max suppression\n",
    "boxes, weights = hog.detectMultiScale(frame, winStride=(8, 8))\n",
    "if len(boxes) > 0:\n",
    "    pick = non_max_suppression(boxes, probs=weights, overlapThresh=0.65)\n",
    "    for (xA, yA, xB, yB) in pick:\n",
    "        cv2.rectangle(frame, (xA, yA), (xB, yB), (0, 255, 0), 2)\n"
   ]
  },
  {
   "cell_type": "code",
   "execution_count": null,
   "metadata": {},
   "outputs": [],
   "source": []
  },
  {
   "cell_type": "code",
   "execution_count": null,
   "metadata": {},
   "outputs": [],
   "source": []
  },
  {
   "cell_type": "code",
   "execution_count": 4,
   "metadata": {},
   "outputs": [
    {
     "ename": "KeyboardInterrupt",
     "evalue": "",
     "output_type": "error",
     "traceback": [
      "\u001b[0;31m---------------------------------------------------------------------------\u001b[0m",
      "\u001b[0;31mKeyboardInterrupt\u001b[0m                         Traceback (most recent call last)",
      "\u001b[1;32m/Users/jaysethi/Documents/ML/main.ipynb Cell 8\u001b[0m line \u001b[0;36m1\n\u001b[1;32m      <a href='vscode-notebook-cell:/Users/jaysethi/Documents/ML/main.ipynb#X10sZmlsZQ%3D%3D?line=7'>8</a>\u001b[0m stream \u001b[39m=\u001b[39m p\u001b[39m.\u001b[39mopen(\u001b[39mformat\u001b[39m\u001b[39m=\u001b[39mpyaudio\u001b[39m.\u001b[39mpaInt16,  \u001b[39m# 16-bit depth\u001b[39;00m\n\u001b[1;32m      <a href='vscode-notebook-cell:/Users/jaysethi/Documents/ML/main.ipynb#X10sZmlsZQ%3D%3D?line=8'>9</a>\u001b[0m                 channels\u001b[39m=\u001b[39m\u001b[39m1\u001b[39m,  \u001b[39m# Mono\u001b[39;00m\n\u001b[1;32m     <a href='vscode-notebook-cell:/Users/jaysethi/Documents/ML/main.ipynb#X10sZmlsZQ%3D%3D?line=9'>10</a>\u001b[0m                 rate\u001b[39m=\u001b[39m\u001b[39m44100\u001b[39m,  \u001b[39m# 44.1kHz sampling rate\u001b[39;00m\n\u001b[1;32m     <a href='vscode-notebook-cell:/Users/jaysethi/Documents/ML/main.ipynb#X10sZmlsZQ%3D%3D?line=10'>11</a>\u001b[0m                 \u001b[39minput\u001b[39m\u001b[39m=\u001b[39m\u001b[39mTrue\u001b[39;00m,  \u001b[39m# Input enabled\u001b[39;00m\n\u001b[1;32m     <a href='vscode-notebook-cell:/Users/jaysethi/Documents/ML/main.ipynb#X10sZmlsZQ%3D%3D?line=11'>12</a>\u001b[0m                 frames_per_buffer\u001b[39m=\u001b[39m\u001b[39m1024\u001b[39m)  \u001b[39m# Buffer size\u001b[39;00m\n\u001b[1;32m     <a href='vscode-notebook-cell:/Users/jaysethi/Documents/ML/main.ipynb#X10sZmlsZQ%3D%3D?line=13'>14</a>\u001b[0m \u001b[39mwhile\u001b[39;00m \u001b[39mTrue\u001b[39;00m:\n\u001b[1;32m     <a href='vscode-notebook-cell:/Users/jaysethi/Documents/ML/main.ipynb#X10sZmlsZQ%3D%3D?line=14'>15</a>\u001b[0m     \u001b[39m# Read audio stream\u001b[39;00m\n\u001b[0;32m---> <a href='vscode-notebook-cell:/Users/jaysethi/Documents/ML/main.ipynb#X10sZmlsZQ%3D%3D?line=15'>16</a>\u001b[0m     audio_data \u001b[39m=\u001b[39m stream\u001b[39m.\u001b[39;49mread(\u001b[39m1024\u001b[39;49m)\n\u001b[1;32m     <a href='vscode-notebook-cell:/Users/jaysethi/Documents/ML/main.ipynb#X10sZmlsZQ%3D%3D?line=16'>17</a>\u001b[0m     audio_array \u001b[39m=\u001b[39m np\u001b[39m.\u001b[39mfrombuffer(audio_data, dtype\u001b[39m=\u001b[39mnp\u001b[39m.\u001b[39mint16)\n\u001b[1;32m     <a href='vscode-notebook-cell:/Users/jaysethi/Documents/ML/main.ipynb#X10sZmlsZQ%3D%3D?line=18'>19</a>\u001b[0m     \u001b[39m# Here you can manipulate the audio_array, similar to how you manipulate video frames\u001b[39;00m\n\u001b[1;32m     <a href='vscode-notebook-cell:/Users/jaysethi/Documents/ML/main.ipynb#X10sZmlsZQ%3D%3D?line=19'>20</a>\u001b[0m     \u001b[39m# ...\u001b[39;00m\n\u001b[1;32m     <a href='vscode-notebook-cell:/Users/jaysethi/Documents/ML/main.ipynb#X10sZmlsZQ%3D%3D?line=20'>21</a>\u001b[0m \n\u001b[0;32m   (...)\u001b[0m\n\u001b[1;32m     <a href='vscode-notebook-cell:/Users/jaysethi/Documents/ML/main.ipynb#X10sZmlsZQ%3D%3D?line=31'>32</a>\u001b[0m \n\u001b[1;32m     <a href='vscode-notebook-cell:/Users/jaysethi/Documents/ML/main.ipynb#X10sZmlsZQ%3D%3D?line=32'>33</a>\u001b[0m \u001b[39m# Close the stream\u001b[39;00m\n",
      "File \u001b[0;32m/opt/homebrew/lib/python3.11/site-packages/pyaudio/__init__.py:570\u001b[0m, in \u001b[0;36mPyAudio.Stream.read\u001b[0;34m(self, num_frames, exception_on_overflow)\u001b[0m\n\u001b[1;32m    567\u001b[0m \u001b[39mif\u001b[39;00m \u001b[39mnot\u001b[39;00m \u001b[39mself\u001b[39m\u001b[39m.\u001b[39m_is_input:\n\u001b[1;32m    568\u001b[0m     \u001b[39mraise\u001b[39;00m \u001b[39mIOError\u001b[39;00m(\u001b[39m\"\u001b[39m\u001b[39mNot input stream\u001b[39m\u001b[39m\"\u001b[39m,\n\u001b[1;32m    569\u001b[0m                   paCanNotReadFromAnOutputOnlyStream)\n\u001b[0;32m--> 570\u001b[0m \u001b[39mreturn\u001b[39;00m pa\u001b[39m.\u001b[39;49mread_stream(\u001b[39mself\u001b[39;49m\u001b[39m.\u001b[39;49m_stream, num_frames,\n\u001b[1;32m    571\u001b[0m                       exception_on_overflow)\n",
      "\u001b[0;31mKeyboardInterrupt\u001b[0m: "
     ]
    }
   ],
   "source": [
    "import pyaudio\n",
    "import numpy as np\n",
    "\n",
    "# Initialize PyAudio\n",
    "p = pyaudio.PyAudio()\n",
    "\n",
    "# Open a streaming channel\n",
    "stream = p.open(format=pyaudio.paInt16,  # 16-bit depth\n",
    "                channels=1,  # Mono\n",
    "                rate=44100,  # 44.1kHz sampling rate\n",
    "                input=True,  # Input enabled\n",
    "                frames_per_buffer=1024)  # Buffer size\n",
    "\n",
    "while True:\n",
    "    # Read audio stream\n",
    "    audio_data = stream.read(1024)\n",
    "    audio_array = np.frombuffer(audio_data, dtype=np.int16)\n",
    "\n",
    "    # Here you can manipulate the audio_array, similar to how you manipulate video frames\n",
    "    # ...\n",
    "\n",
    "    # Uncomment the following lines if you want to hear the audio you're capturing\n",
    "    # stream_out = p.open(format=pyaudio.paInt16,\n",
    "    #                     channels=1,\n",
    "    #                     rate=44100,\n",
    "    #                     output=True)\n",
    "    # stream_out.write(audio_array.tobytes())\n",
    "\n",
    "    # Uncomment to exit the loop when you press 'q'\n",
    "    # if cv2.waitKey(1) & 0xFF == ord('q'):\n",
    "    #     break\n",
    "\n",
    "# Close the stream\n",
    "stream.stop_stream()\n",
    "stream.close()\n",
    "\n",
    "# Terminate PyAudio\n",
    "p.terminate()\n"
   ]
  },
  {
   "cell_type": "code",
   "execution_count": 6,
   "metadata": {},
   "outputs": [
    {
     "data": {
      "text/plain": [
       "1024"
      ]
     },
     "execution_count": 6,
     "metadata": {},
     "output_type": "execute_result"
    }
   ],
   "source": [
    "import pyaudio\n",
    "import wave\n",
    "import numpy as np\n",
    "\n",
    "# Initialize PyAudio\n",
    "p = pyaudio.PyAudio()\n",
    "\n",
    "# Setup\n",
    "FORMAT = pyaudio.paInt16\n",
    "CHANNELS = 1\n",
    "RATE = 44100\n",
    "CHUNK = 1024\n",
    "RECORD_SECONDS = 5\n",
    "WAVE_OUTPUT_FILENAME = \"output.wav\"\n",
    "\n",
    "# Start Recording\n",
    "stream = p.open(format=FORMAT, channels=CHANNELS,\n",
    "                rate=RATE, input=True,\n",
    "                frames_per_buffer=CHUNK)\n",
    "\n",
    "print(\"Recording...\")\n",
    "\n",
    "frames = []\n",
    "\n",
    "for i in range(0, int(RATE / CHUNK * RECORD_SECONDS)):\n",
    "    audio_data = stream.read(CHUNK)\n",
    "    frames.append(audio_data)\n",
    "\n",
    "print(\"Finished recording.\")\n",
    "\n",
    "# Stop Recording\n",
    "stream.stop_stream()\n",
    "stream.close()\n",
    "p.terminate()\n",
    "\n",
    "# Save as a WAV file\n",
    "wf = wave.open(WAVE_OUTPUT_FILENAME, 'wb')\n",
    "wf.setnchannels(CHANNELS)\n",
    "wf.setsampwidth(p.get_sample_size(FORMAT))\n",
    "wf.setframerate(RATE)\n",
    "wf.writeframes(b''.join(frames))\n",
    "wf.close()\n"
   ]
  },
  {
   "cell_type": "markdown",
   "metadata": {},
   "source": [
    "audio with saving"
   ]
  },
  {
   "cell_type": "code",
   "execution_count": 4,
   "metadata": {},
   "outputs": [
    {
     "name": "stdout",
     "output_type": "stream",
     "text": [
      "Recording...\n",
      "Finished recording.\n"
     ]
    }
   ],
   "source": [
    "import pyaudio\n",
    "import wave\n",
    "import numpy as np\n",
    "\n",
    "# Initialize PyAudio\n",
    "p = pyaudio.PyAudio()\n",
    "\n",
    "# Setup\n",
    "FORMAT = pyaudio.paInt16\n",
    "CHANNELS = 1\n",
    "RATE = 44100\n",
    "CHUNK = 1024\n",
    "RECORD_SECONDS = 5\n",
    "WAVE_OUTPUT_FILENAME = \"output.wav\"\n",
    "\n",
    "# Start Recording\n",
    "stream = p.open(format=FORMAT, channels=CHANNELS,\n",
    "                rate=RATE, input=True,\n",
    "                frames_per_buffer=CHUNK)\n",
    "\n",
    "print(\"Recording...\")\n",
    "\n",
    "frames = []\n",
    "\n",
    "for i in range(0, int(RATE / CHUNK * RECORD_SECONDS)):\n",
    "    audio_data = stream.read(CHUNK)\n",
    "    frames.append(audio_data)\n",
    "\n",
    "print(\"Finished recording.\")\n",
    "\n",
    "# Stop Recording\n",
    "stream.stop_stream()\n",
    "stream.close()\n",
    "p.terminate()\n",
    "\n",
    "# Save as a WAV file\n",
    "wf = wave.open(WAVE_OUTPUT_FILENAME, 'wb')\n",
    "wf.setnchannels(CHANNELS)\n",
    "wf.setsampwidth(p.get_sample_size(FORMAT))\n",
    "wf.setframerate(RATE)\n",
    "wf.writeframes(b''.join(frames))\n",
    "wf.close()\n"
   ]
  },
  {
   "cell_type": "markdown",
   "metadata": {},
   "source": [
    "audio transcription"
   ]
  },
  {
   "cell_type": "code",
   "execution_count": 4,
   "metadata": {},
   "outputs": [],
   "source": [
    "import sys\n",
    "\n",
    "# Path to append\n",
    "path_to_append = '/opt/homebrew/opt/python@3.11/Frameworks/Python.framework/Versions/3.11/lib/python3.11/site-packages'\n",
    "\n",
    "# Check if the path is already in sys.path\n",
    "if path_to_append not in sys.path:\n",
    "    sys.path.append(path_to_append)"
   ]
  },
  {
   "cell_type": "code",
   "execution_count": 19,
   "metadata": {},
   "outputs": [],
   "source": [
    "from dotenv import load_dotenv\n",
    "import os\n",
    "\n",
    "load_dotenv()  # This will load all the environment variables from .env file\n",
    "\n",
    "openai_api_key = os.getenv(\"OPENAI_API_KEY\")  # Now the API key is loaded in this variable\n",
    "replicate_api_key = os.getenv(\"REPLICATE_API_TOKEN\")  # Now the API key is loaded in this variable``"
   ]
  },
  {
   "cell_type": "code",
   "execution_count": 23,
   "metadata": {},
   "outputs": [
    {
     "data": {
      "text/plain": [
       "'r8_G6djbie2rIpglMJLKlkr2rS2vqzHUFl1KktHK'"
      ]
     },
     "execution_count": 23,
     "metadata": {},
     "output_type": "execute_result"
    }
   ],
   "source": [
    "replicate_api_key"
   ]
  },
  {
   "cell_type": "code",
   "execution_count": 5,
   "metadata": {},
   "outputs": [
    {
     "name": "stdout",
     "output_type": "stream",
     "text": [
      "{\n",
      "  \"text\": \"testing testing transcribe this accurately\"\n",
      "}\n"
     ]
    }
   ],
   "source": [
    "# Note: you need to be using OpenAI Python v0.27.0 for the code below to work\n",
    "import openai\n",
    "audio_file= open(\"output.wav\", \"rb\")\n",
    "transcript = openai.Audio.transcribe(\"whisper-1\", audio_file)\n",
    "print(transcript)"
   ]
  },
  {
   "cell_type": "markdown",
   "metadata": {},
   "source": [
    "REPLICATE"
   ]
  },
  {
   "cell_type": "code",
   "execution_count": 11,
   "metadata": {},
   "outputs": [],
   "source": [
    "import replicate \n"
   ]
  },
  {
   "cell_type": "code",
   "execution_count": 30,
   "metadata": {},
   "outputs": [
    {
     "ename": "AttributeError",
     "evalue": "module 'replicate' has no attribute 'init'",
     "output_type": "error",
     "traceback": [
      "\u001b[0;31m---------------------------------------------------------------------------\u001b[0m",
      "\u001b[0;31mAttributeError\u001b[0m                            Traceback (most recent call last)",
      "\u001b[1;32m/Users/jaysethi/Documents/ML/main.ipynb Cell 18\u001b[0m line \u001b[0;36m2\n\u001b[1;32m      <a href='vscode-notebook-cell:/Users/jaysethi/Documents/ML/main.ipynb#X31sZmlsZQ%3D%3D?line=0'>1</a>\u001b[0m REPLICATE_API_TOKEN \u001b[39m=\u001b[39m os\u001b[39m.\u001b[39mgetenv(\u001b[39m\"\u001b[39m\u001b[39mREPLICATE_API_TOKEN\u001b[39m\u001b[39m\"\u001b[39m)\n\u001b[0;32m----> <a href='vscode-notebook-cell:/Users/jaysethi/Documents/ML/main.ipynb#X31sZmlsZQ%3D%3D?line=1'>2</a>\u001b[0m replicate\u001b[39m.\u001b[39;49minit(api_token\u001b[39m=\u001b[39mos\u001b[39m.\u001b[39mgetenv(\u001b[39m\"\u001b[39m\u001b[39mREPLICATE_API_TOKEN\u001b[39m\u001b[39m\"\u001b[39m))\n",
      "\u001b[0;31mAttributeError\u001b[0m: module 'replicate' has no attribute 'init'"
     ]
    }
   ],
   "source": [
    "REPLICATE_API_TOKEN = os.getenv(\"REPLICATE_API_TOKEN\")\n",
    "replicate.init(api_token=os.getenv(\"REPLICATE_API_TOKEN\"))"
   ]
  },
  {
   "cell_type": "code",
   "execution_count": 31,
   "metadata": {},
   "outputs": [],
   "source": [
    "replicate = replicate.Client(api_token=REPLICATE_API_TOKEN)"
   ]
  },
  {
   "cell_type": "code",
   "execution_count": 40,
   "metadata": {},
   "outputs": [],
   "source": [
    "replicate_prompt= \"in today's podcaset, we are going to understand how and why ravi riley is such a fine and charming gentleman? \""
   ]
  },
  {
   "cell_type": "code",
   "execution_count": 41,
   "metadata": {},
   "outputs": [],
   "source": [
    "replicate_output = replicate.run(\n",
    "  \"suno-ai/bark:b76242b40d67c76ab6742e987628a2a9ac019e11d56ab96c4e91ce03b79b2787\",\n",
    "  input={\"prompt\": replicate_prompt},\n",
    ")"
   ]
  },
  {
   "cell_type": "code",
   "execution_count": 42,
   "metadata": {},
   "outputs": [
    {
     "data": {
      "text/plain": [
       "{'audio_out': 'https://pbxt.replicate.delivery/S0Tsh4Ap2yb1PRGUeIuNYfbxT37i9A9ei9NA1EUAklYJ18ljA/audio.wav'}"
      ]
     },
     "execution_count": 42,
     "metadata": {},
     "output_type": "execute_result"
    }
   ],
   "source": [
    "replicate_output"
   ]
  },
  {
   "cell_type": "code",
   "execution_count": null,
   "metadata": {},
   "outputs": [],
   "source": []
  }
 ],
 "metadata": {
  "kernelspec": {
   "display_name": "Python 3",
   "language": "python",
   "name": "python3"
  },
  "language_info": {
   "codemirror_mode": {
    "name": "ipython",
    "version": 3
   },
   "file_extension": ".py",
   "mimetype": "text/x-python",
   "name": "python",
   "nbconvert_exporter": "python",
   "pygments_lexer": "ipython3",
   "version": "3.11.5"
  }
 },
 "nbformat": 4,
 "nbformat_minor": 2
}
